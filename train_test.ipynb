{
 "cells": [
  {
   "cell_type": "code",
   "execution_count": 1,
   "metadata": {},
   "outputs": [
    {
     "data": {
      "text/html": [
       "<div>\n",
       "<style scoped>\n",
       "    .dataframe tbody tr th:only-of-type {\n",
       "        vertical-align: middle;\n",
       "    }\n",
       "\n",
       "    .dataframe tbody tr th {\n",
       "        vertical-align: top;\n",
       "    }\n",
       "\n",
       "    .dataframe thead th {\n",
       "        text-align: right;\n",
       "    }\n",
       "</style>\n",
       "<table border=\"1\" class=\"dataframe\">\n",
       "  <thead>\n",
       "    <tr style=\"text-align: right;\">\n",
       "      <th></th>\n",
       "      <th>guide_pam</th>\n",
       "      <th>guide_score</th>\n",
       "      <th>guide_strand</th>\n",
       "      <th>guide_sequence</th>\n",
       "      <th>guide_endonuclease</th>\n",
       "      <th>guide_genomic_location</th>\n",
       "      <th>guide_sequence_with_context</th>\n",
       "      <th>cds_name</th>\n",
       "      <th>protein_id</th>\n",
       "      <th>cds_string_id</th>\n",
       "      <th>cds_locus_tag</th>\n",
       "      <th>cds_integer_id</th>\n",
       "      <th>cds_ref_species</th>\n",
       "      <th>cds_species_name</th>\n",
       "      <th>cds_orthologous_to</th>\n",
       "      <th>cds_orthologous_to_ref_prot_id</th>\n",
       "    </tr>\n",
       "  </thead>\n",
       "  <tbody>\n",
       "    <tr>\n",
       "      <th>0</th>\n",
       "      <td>GG</td>\n",
       "      <td>56.07</td>\n",
       "      <td>F</td>\n",
       "      <td>AACTTCGGCGACATCCTGGC</td>\n",
       "      <td>cas9</td>\n",
       "      <td>826</td>\n",
       "      <td>NaN</td>\n",
       "      <td>THR4</td>\n",
       "      <td>XP_041547107.1</td>\n",
       "      <td>XP_041547107.1</td>\n",
       "      <td>AKAW2_70223S</td>\n",
       "      <td>15</td>\n",
       "      <td>kluyveromyces_marxianus</td>\n",
       "      <td>aspergillus_luchuensis</td>\n",
       "      <td>THR4</td>\n",
       "      <td>XP_022675622.1</td>\n",
       "    </tr>\n",
       "    <tr>\n",
       "      <th>1</th>\n",
       "      <td>GG</td>\n",
       "      <td>50.67</td>\n",
       "      <td>F</td>\n",
       "      <td>AACTTCGGCGACATCCTGGC</td>\n",
       "      <td>cas9</td>\n",
       "      <td>925</td>\n",
       "      <td>NaN</td>\n",
       "      <td>THR4</td>\n",
       "      <td>XP_024320180.1</td>\n",
       "      <td>XP_024320180.1</td>\n",
       "      <td>VC83_08619</td>\n",
       "      <td>17</td>\n",
       "      <td>kluyveromyces_marxianus</td>\n",
       "      <td>pseudogymnoascus_destructans</td>\n",
       "      <td>THR4</td>\n",
       "      <td>XP_022675622.1</td>\n",
       "    </tr>\n",
       "    <tr>\n",
       "      <th>2</th>\n",
       "      <td>GG</td>\n",
       "      <td>56.28</td>\n",
       "      <td>F</td>\n",
       "      <td>AACTTCGGCGACATCCTGGC</td>\n",
       "      <td>cas9</td>\n",
       "      <td>826</td>\n",
       "      <td>NaN</td>\n",
       "      <td>NaN</td>\n",
       "      <td>XP_025542779.1</td>\n",
       "      <td>XP_025542779.1</td>\n",
       "      <td>BO79DRAFT_207634</td>\n",
       "      <td>7</td>\n",
       "      <td>kluyveromyces_marxianus</td>\n",
       "      <td>aspergillus_costaricensis</td>\n",
       "      <td>THR4</td>\n",
       "      <td>XP_022675622.1</td>\n",
       "    </tr>\n",
       "    <tr>\n",
       "      <th>3</th>\n",
       "      <td>GG</td>\n",
       "      <td>56.07</td>\n",
       "      <td>F</td>\n",
       "      <td>AACTTCGGCGACATCCTGGC</td>\n",
       "      <td>cas9</td>\n",
       "      <td>826</td>\n",
       "      <td>NaN</td>\n",
       "      <td>NaN</td>\n",
       "      <td>XP_025512183.1</td>\n",
       "      <td>XP_025512183.1</td>\n",
       "      <td>BO85DRAFT_428187</td>\n",
       "      <td>15</td>\n",
       "      <td>kluyveromyces_marxianus</td>\n",
       "      <td>aspergillus_piperis</td>\n",
       "      <td>THR4</td>\n",
       "      <td>XP_022675622.1</td>\n",
       "    </tr>\n",
       "    <tr>\n",
       "      <th>4</th>\n",
       "      <td>GG</td>\n",
       "      <td>56.28</td>\n",
       "      <td>F</td>\n",
       "      <td>AACTTCGGCGACATCCTGGC</td>\n",
       "      <td>cas9</td>\n",
       "      <td>826</td>\n",
       "      <td>NaN</td>\n",
       "      <td>NaN</td>\n",
       "      <td>XP_025484599.1</td>\n",
       "      <td>XP_025484599.1</td>\n",
       "      <td>BO87DRAFT_372335</td>\n",
       "      <td>1</td>\n",
       "      <td>kluyveromyces_marxianus</td>\n",
       "      <td>aspergillus_neoniger</td>\n",
       "      <td>THR4</td>\n",
       "      <td>XP_022675622.1</td>\n",
       "    </tr>\n",
       "  </tbody>\n",
       "</table>\n",
       "</div>"
      ],
      "text/plain": [
       "  guide_pam  guide_score guide_strand        guide_sequence  \\\n",
       "0        GG        56.07            F  AACTTCGGCGACATCCTGGC   \n",
       "1        GG        50.67            F  AACTTCGGCGACATCCTGGC   \n",
       "2        GG        56.28            F  AACTTCGGCGACATCCTGGC   \n",
       "3        GG        56.07            F  AACTTCGGCGACATCCTGGC   \n",
       "4        GG        56.28            F  AACTTCGGCGACATCCTGGC   \n",
       "\n",
       "  guide_endonuclease  guide_genomic_location  guide_sequence_with_context  \\\n",
       "0               cas9                     826                          NaN   \n",
       "1               cas9                     925                          NaN   \n",
       "2               cas9                     826                          NaN   \n",
       "3               cas9                     826                          NaN   \n",
       "4               cas9                     826                          NaN   \n",
       "\n",
       "  cds_name      protein_id   cds_string_id     cds_locus_tag  cds_integer_id  \\\n",
       "0     THR4  XP_041547107.1  XP_041547107.1      AKAW2_70223S              15   \n",
       "1     THR4  XP_024320180.1  XP_024320180.1        VC83_08619              17   \n",
       "2      NaN  XP_025542779.1  XP_025542779.1  BO79DRAFT_207634               7   \n",
       "3      NaN  XP_025512183.1  XP_025512183.1  BO85DRAFT_428187              15   \n",
       "4      NaN  XP_025484599.1  XP_025484599.1  BO87DRAFT_372335               1   \n",
       "\n",
       "           cds_ref_species              cds_species_name cds_orthologous_to  \\\n",
       "0  kluyveromyces_marxianus        aspergillus_luchuensis               THR4   \n",
       "1  kluyveromyces_marxianus  pseudogymnoascus_destructans               THR4   \n",
       "2  kluyveromyces_marxianus     aspergillus_costaricensis               THR4   \n",
       "3  kluyveromyces_marxianus           aspergillus_piperis               THR4   \n",
       "4  kluyveromyces_marxianus          aspergillus_neoniger               THR4   \n",
       "\n",
       "  cds_orthologous_to_ref_prot_id  \n",
       "0                 XP_022675622.1  \n",
       "1                 XP_022675622.1  \n",
       "2                 XP_022675622.1  \n",
       "3                 XP_022675622.1  \n",
       "4                 XP_022675622.1  "
      ]
     },
     "execution_count": 1,
     "metadata": {},
     "output_type": "execute_result"
    }
   ],
   "source": [
    "import os\n",
    "import pandas as pd\n",
    "\n",
    "df = pd.read_csv('data/339_output_ortho/339_ncbi_b10_2.csv')\n",
    "\n",
    "df.head()"
   ]
  },
  {
   "cell_type": "code",
   "execution_count": 2,
   "metadata": {},
   "outputs": [
    {
     "data": {
      "text/plain": [
       "(50,)"
      ]
     },
     "execution_count": 2,
     "metadata": {},
     "output_type": "execute_result"
    }
   ],
   "source": [
    "df.guide_sequence.unique().shape"
   ]
  },
  {
   "cell_type": "code",
   "execution_count": 4,
   "metadata": {},
   "outputs": [
    {
     "data": {
      "text/plain": [
       "(711, 16)"
      ]
     },
     "execution_count": 4,
     "metadata": {},
     "output_type": "execute_result"
    }
   ],
   "source": [
    "df.shape"
   ]
  },
  {
   "cell_type": "code",
   "execution_count": 4,
   "metadata": {},
   "outputs": [
    {
     "name": "stdout",
     "output_type": "stream",
     "text": [
      "17\n"
     ]
    },
    {
     "data": {
      "text/plain": [
       "array(['THR4', 'LEU1', 'LYS9', 'ADE6', 'LYS2', 'TRP5', 'ADE1', 'LYS4',\n",
       "       'ARG1', 'ILV3', 'LYS1', 'HIS7', 'ARG4', 'MET2', 'ARG3', 'ADE13',\n",
       "       'HIS4'], dtype=object)"
      ]
     },
     "execution_count": 4,
     "metadata": {},
     "output_type": "execute_result"
    }
   ],
   "source": [
    "print(len(df.cds_orthologous_to.unique()))\n",
    "df.cds_orthologous_to.unique()"
   ]
  },
  {
   "cell_type": "code",
   "execution_count": 5,
   "metadata": {},
   "outputs": [
    {
     "data": {
      "text/plain": [
       "colletotrichum_gloeosporioides    7\n",
       "colletotrichum_karsti             7\n",
       "alternaria_burnsii                6\n",
       "dothidotthia_symphoricarpi        5\n",
       "candida_subhashii                 5\n",
       "                                 ..\n",
       "schizosaccharomyces_octosporus    1\n",
       "trichoderma_harzianum             1\n",
       "kwoniella_dejecticola             1\n",
       "schizosaccharomyces_japonicus     1\n",
       "trichoderma_reesei                1\n",
       "Name: cds_species_name, Length: 339, dtype: int64"
      ]
     },
     "execution_count": 5,
     "metadata": {},
     "output_type": "execute_result"
    }
   ],
   "source": [
    "df.cds_species_name.value_counts()"
   ]
  },
  {
   "cell_type": "code",
   "execution_count": 6,
   "metadata": {},
   "outputs": [],
   "source": [
    "from sklearn.model_selection import train_test_split\n",
    "\n",
    "inputs_species = pd.read_csv('data/input/final_standard_ncbi_input_species.csv')\n",
    "\n",
    "train, test = train_test_split(inputs_species, test_size=0.1)"
   ]
  },
  {
   "cell_type": "code",
   "execution_count": 7,
   "metadata": {},
   "outputs": [],
   "source": [
    "train.to_csv('data/input/train_ncbi_species.csv', index=False)\n",
    "test.to_csv('data/input/test_ncbi_species.csv', index=False)"
   ]
  },
  {
   "cell_type": "code",
   "execution_count": 8,
   "metadata": {},
   "outputs": [],
   "source": [
    "# run allegro with 305_ncbi_species.csv\n",
    "\n",
    "os.system(\n",
    "    (\"conda run -n allegro python src/main.py \" +\n",
    "    \"--experiment_name train_test \"\n",
    "    \"--input_species_path data/input/train_ncbi_species.csv \" +\n",
    "    \"--output_directory data/train_test_output/ \" +\n",
    "    \"--mode from_orthogroups \" +\n",
    "    \"--objective min \" +\n",
    "    \"--scorer dummy \"\n",
    "    )\n",
    ")"
   ]
  },
  {
   "cell_type": "code",
   "execution_count": 20,
   "metadata": {},
   "outputs": [
    {
     "data": {
      "text/plain": [
       "array(['ADE6', 'ARG3', 'LYS4', 'ADE13', 'ARG1', 'MET2', 'LEU1', 'TRP5',\n",
       "       'ADE1', 'LYS1', 'LYS9', 'LYS2', 'THR4', 'HIS7'], dtype=object)"
      ]
     },
     "execution_count": 20,
     "metadata": {},
     "output_type": "execute_result"
    }
   ],
   "source": [
    "guides_to_hit_305 = pd.read_csv('../data/339_output_ortho/305_ncbi_b0.csv')\n",
    "\n",
    "guides_to_hit_305.cds_orthologous_to.unique()"
   ]
  },
  {
   "cell_type": "code",
   "execution_count": 21,
   "metadata": {},
   "outputs": [
    {
     "data": {
      "text/plain": [
       "(14,)"
      ]
     },
     "execution_count": 21,
     "metadata": {},
     "output_type": "execute_result"
    }
   ],
   "source": [
    "guides_to_hit_305.cds_orthologous_to.unique().shape"
   ]
  },
  {
   "cell_type": "code",
   "execution_count": 22,
   "metadata": {},
   "outputs": [
    {
     "data": {
      "text/plain": [
       "(47,)"
      ]
     },
     "execution_count": 22,
     "metadata": {},
     "output_type": "execute_result"
    }
   ],
   "source": [
    "guides_to_hit_305.guide_sequence.unique().shape"
   ]
  },
  {
   "cell_type": "code",
   "execution_count": 54,
   "metadata": {},
   "outputs": [],
   "source": [
    "# Let's hit the genomes of the other 34 species with these 47 guides.\n",
    "# Then we see where the hits occur.\n",
    "# Then, we see if the hits are in a coding region and if they are hitting the right genes"
   ]
  },
  {
   "cell_type": "code",
   "execution_count": 11,
   "metadata": {},
   "outputs": [],
   "source": [
    "from Bio import SeqIO\n",
    "from Bio.SeqRecord import SeqRecord\n",
    "\n",
    "# species_name: full_genome\n",
    "full_genomes: dict[str, str] = dict()\n",
    "\n",
    "for idx, row in test.iterrows():\n",
    "    full_genomes[row.species_name] = ''\n",
    "    scaffolds = list(SeqIO.parse(open('../data/input/genomes/' + row.genome_file_name), 'fasta'))\n",
    "\n",
    "    for s in scaffolds:\n",
    "        full_genomes[row.species_name] += str(s.seq)\n"
   ]
  },
  {
   "cell_type": "code",
   "execution_count": 57,
   "metadata": {},
   "outputs": [],
   "source": [
    "# sequence: (species_name, strand, [locations])"
   ]
  },
  {
   "cell_type": "code",
   "execution_count": 10,
   "metadata": {},
   "outputs": [],
   "source": [
    "from src.utils.find_cas9_guides_in_seq import GuideFinder\n",
    "\n",
    "\n",
    "class NameStrandLoc:\n",
    "    def __init__(self) -> None:\n",
    "        self.strands: list[str] = list()\n",
    "        self.species: list[str] = list()\n",
    "        self.genomic_locs: list[int] = list()\n",
    "\n",
    "\n",
    "    @property\n",
    "    def attributes(self) -> dict[str, list[str] | list[int]]:\n",
    "        return dict({\n",
    "            'strands': self.strands,\n",
    "            'species': self.species,\n",
    "            'genomic_locs': self.genomic_locs,\n",
    "        })\n",
    "\n",
    "\n",
    "    def update(self, species: str, strand: str, loc: int) -> None:\n",
    "        self.strands.append(strand)\n",
    "        self.species.append(species)\n",
    "        self.genomic_locs.append(loc)\n",
    "\n",
    "\n",
    "# gf = GuideFinder()\n",
    "# seq_to_info: dict[str, NameStrandLoc] = dict()\n",
    "\n",
    "\n",
    "# for key, value in full_genomes.items():\n",
    "#     list_of_tupes = gf.find_guides_and_indicate_strand(value)\n",
    "\n",
    "#     for t in list_of_tupes:\n",
    "#         seq_to_info.setdefault(t[0], NameStrandLoc()).update(species=key, strand=t[1], loc=t[2])"
   ]
  },
  {
   "cell_type": "code",
   "execution_count": 11,
   "metadata": {},
   "outputs": [],
   "source": [
    "import pickle\n",
    "\n",
    "# pickle.dump(seq_to_info, open('seq_to_info.pickle', 'wb'))\n",
    "# with open('seq_to_info.pickle', 'wb') as f:\n",
    "#     pickle.dump(seq_to_info, f)\n",
    "seq_to_info = pickle.load(open('seq_to_info.pickle', 'rb'))"
   ]
  },
  {
   "cell_type": "code",
   "execution_count": 12,
   "metadata": {},
   "outputs": [
    {
     "name": "stdout",
     "output_type": "stream",
     "text": [
      "Unique species hit by 305 guides:\n",
      "{'candida_pseudohaemulonii', 'colletotrichum_karsti', 'candida_pseudojiufengensis', 'naumovozyma_dairenensis', 'penicillium_digitatum', 'lodderomyces_elongisporus', 'microsporum_canis', 'daldinia_loculata', 'pseudogymnoascus_destructans', 'aspergillus_ibericus', 'daldinia_childiae', 'dothidotthia_symphoricarpi', 'nannizzia_gypsea', 'serpula_lacrymans', 'aspergillus_fischeri', 'neurospora_crassa', 'diplodia_corticola', 'trametes_versicolor', 'cladophialophora_carrionii', 'neoarthrinium_moseri', 'fusarium_oxysporum', 'penicilliopsis_zonata', 'pseudomicrostroma_glucosiphilum', 'cryptococcus_wingfieldii', 'candida_oxycetoniae', 'emericellopsis_cladophorae', 'diutina_rugosa', 'sphaerulina_musiva', 'pseudozyma_flocculosa', 'trichophyton_verrucosum'}\n",
      "Total #: 30 / 34\n"
     ]
    }
   ],
   "source": [
    "guide_targets_in_34 = list()\n",
    "for seq in guides_to_hit_305.guide_sequence.unique():\n",
    "    if seq in seq_to_info:\n",
    "        guide_targets_in_34.append(seq)\n",
    "\n",
    "species_targets = list()\n",
    "target_seq_objects = dict()\n",
    "for target in guide_targets_in_34:\n",
    "    species_targets.extend(seq_to_info[target].species)\n",
    "    target_seq_objects[target] = seq_to_info[target]\n",
    "\n",
    "\n",
    "print('Unique species hit by 305 guides:')\n",
    "print(set(species_targets))\n",
    "print('Total #:', len(set(species_targets)), '/', len(test))"
   ]
  },
  {
   "cell_type": "code",
   "execution_count": null,
   "metadata": {},
   "outputs": [],
   "source": [
    "# The other 4 not hit, where are they on the phylogenetic tree?"
   ]
  },
  {
   "cell_type": "code",
   "execution_count": 30,
   "metadata": {},
   "outputs": [],
   "source": [
    "# Where are the hits? Some species are hit multiple times. Where are the hits?"
   ]
  },
  {
   "cell_type": "code",
   "execution_count": null,
   "metadata": {},
   "outputs": [
    {
     "name": "stdout",
     "output_type": "stream",
     "text": [
      "CACAAGCCCATCATGATTGC {'strands': ['R'], 'species': ['penicilliopsis_zonata'], 'genomic_locs': [19694895]}\n",
      "\n",
      "TCATTACACCAAATTTCCAT {'strands': ['F', 'F'], 'species': ['candida_oxycetoniae', 'candida_pseudojiufengensis'], 'genomic_locs': [5540770, 373268]}\n",
      "\n",
      "TCGGCGAGGAGGAACATCTC {'strands': ['F'], 'species': ['fusarium_oxysporum'], 'genomic_locs': [37384301]}\n",
      "\n",
      "GGTGGTGAAATTAGAGATGA {'strands': ['R', 'R'], 'species': ['lodderomyces_elongisporus', 'naumovozyma_dairenensis'], 'genomic_locs': [9453659, 7404490]}\n",
      "\n",
      "GCAATAATCTCCTGCACATT {'strands': ['F', 'R'], 'species': ['pseudogymnoascus_destructans', 'neurospora_crassa'], 'genomic_locs': [2320636, 14826864]}\n",
      "\n",
      "ATTGGTACTGCTGGTGGTAC {'strands': ['F', 'F', 'R'], 'species': ['lodderomyces_elongisporus', 'candida_pseudojiufengensis', 'candida_pseudohaemulonii'], 'genomic_locs': [11885044, 9946384, 4272169]}\n",
      "\n",
      "ATTGTCGAGAACCGTTTCAT {'strands': ['F', 'F', 'R'], 'species': ['dothidotthia_symphoricarpi', 'cladophialophora_carrionii', 'aspergillus_ibericus'], 'genomic_locs': [31737656, 18961431, 20577556]}\n",
      "\n",
      "CACAAGCCTATCATGATTGC {'strands': ['F', 'F'], 'species': ['cladophialophora_carrionii', 'aspergillus_ibericus'], 'genomic_locs': [13530714, 23680349]}\n",
      "\n",
      "ATCACCGTCATGAACGAGAT {'strands': ['R', 'R', 'R', 'F', 'F'], 'species': ['daldinia_loculata', 'pseudomicrostroma_glucosiphilum', 'emericellopsis_cladophorae', 'daldinia_childiae', 'colletotrichum_karsti'], 'genomic_locs': [20498414, 9365307, 26251721, 15433038, 23868923]}\n",
      "\n",
      "TCGTTACACCAGATCTCCAT {'strands': ['R', 'F', 'R'], 'species': ['cryptococcus_wingfieldii', 'candida_pseudohaemulonii', 'diutina_rugosa'], 'genomic_locs': [5666784, 9609833, 9059699]}\n",
      "\n",
      "AAGCCTATCATGATCGCTGG {'strands': ['R', 'F'], 'species': ['trametes_versicolor', 'penicillium_digitatum'], 'genomic_locs': [35914278, 14999871]}\n",
      "\n",
      "ATGGTCTTGAGGAACTGCTT {'strands': ['F', 'F', 'R'], 'species': ['dothidotthia_symphoricarpi', 'neurospora_crassa', 'penicilliopsis_zonata'], 'genomic_locs': [28499031, 23091550, 12320337]}\n",
      "\n",
      "AAGCCCTACTTCATCTACCC {'strands': ['R', 'F', 'F', 'F'], 'species': ['emericellopsis_cladophorae', 'aspergillus_ibericus', 'neurospora_crassa', 'penicilliopsis_zonata'], 'genomic_locs': [26252060, 25829885, 27842716, 7575293]}\n",
      "\n",
      "GGCTTGTCGATCTTGCCGTT {'strands': ['R', 'R', 'F'], 'species': ['cladophialophora_carrionii', 'aspergillus_fischeri', 'pseudozyma_flocculosa'], 'genomic_locs': [26154970, 2340466, 11942891]}\n",
      "\n",
      "CGAGGAAGCAGACGACCTCA {'strands': ['F', 'F'], 'species': ['trichophyton_verrucosum', 'microsporum_canis'], 'genomic_locs': [21244232, 20275842]}\n",
      "\n",
      "TGGCCGAAGTGGCCGACGCC {'strands': ['F', 'R', 'R'], 'species': ['dothidotthia_symphoricarpi', 'neoarthrinium_moseri', 'colletotrichum_karsti'], 'genomic_locs': [664990, 18915719, 50669614]}\n",
      "\n",
      "GCGTACAAGTGGTCGATACC {'strands': ['R', 'R', 'F', 'F'], 'species': ['lodderomyces_elongisporus', 'neurospora_crassa', 'candida_pseudohaemulonii', 'diutina_rugosa'], 'genomic_locs': [6499363, 13259882, 9220475, 11193477]}\n",
      "\n",
      "GCTGACAACATCAACACCGA {'strands': ['F'], 'species': ['dothidotthia_symphoricarpi'], 'genomic_locs': [16994382]}\n",
      "\n",
      "GATGATCAAGTCAAAATTCG {'strands': ['R', 'R'], 'species': ['diplodia_corticola', 'serpula_lacrymans'], 'genomic_locs': [25037694, 35515561]}\n",
      "\n",
      "GGTTTTGAATGGAGAGAAGC {'strands': ['F'], 'species': ['candida_oxycetoniae'], 'genomic_locs': [4988685]}\n",
      "\n",
      "GACAGCCACAGCAACATGTA {'strands': ['F'], 'species': ['penicilliopsis_zonata'], 'genomic_locs': [20245261]}\n",
      "\n",
      "AAGCCATACTTCATCTACCC {'strands': ['F', 'F', 'R', 'F', 'F', 'F'], 'species': ['nannizzia_gypsea', 'pseudogymnoascus_destructans', 'dothidotthia_symphoricarpi', 'trichophyton_verrucosum', 'sphaerulina_musiva', 'microsporum_canis'], 'genomic_locs': [4682278, 28940265, 16082699, 9825850, 17223738, 4890138]}\n",
      "\n",
      "TTCAACAACACCTTCAAGAA {'strands': ['R', 'F', 'F'], 'species': ['daldinia_loculata', 'pseudogymnoascus_destructans', 'daldinia_childiae'], 'genomic_locs': [31793985, 7877025, 23257420]}\n",
      "\n"
     ]
    }
   ],
   "source": [
    "for seq, obj in target_seq_objects.items():\n",
    "    print(seq, obj.attributes)\n",
    "    print()"
   ]
  },
  {
   "cell_type": "code",
   "execution_count": null,
   "metadata": {},
   "outputs": [
    {
     "name": "stdout",
     "output_type": "stream",
     "text": [
      "penicilliopsis_zonata {'strands': ['R', 'R', 'F', 'F'], 'guides': ['CACAAGCCCATCATGATTGC', 'ATGGTCTTGAGGAACTGCTT', 'AAGCCCTACTTCATCTACCC', 'GACAGCCACAGCAACATGTA'], 'genomic_locs': [19694895, 12320337, 7575293, 20245261]}\n",
      "candida_oxycetoniae {'strands': ['F', 'F'], 'guides': ['TCATTACACCAAATTTCCAT', 'GGTTTTGAATGGAGAGAAGC'], 'genomic_locs': [5540770, 4988685]}\n",
      "candida_pseudojiufengensis {'strands': ['F', 'F'], 'guides': ['TCATTACACCAAATTTCCAT', 'ATTGGTACTGCTGGTGGTAC'], 'genomic_locs': [373268, 9946384]}\n",
      "fusarium_oxysporum {'strands': ['F'], 'guides': ['TCGGCGAGGAGGAACATCTC'], 'genomic_locs': [37384301]}\n",
      "lodderomyces_elongisporus {'strands': ['R', 'F', 'R'], 'guides': ['GGTGGTGAAATTAGAGATGA', 'ATTGGTACTGCTGGTGGTAC', 'GCGTACAAGTGGTCGATACC'], 'genomic_locs': [9453659, 11885044, 6499363]}\n",
      "naumovozyma_dairenensis {'strands': ['R'], 'guides': ['GGTGGTGAAATTAGAGATGA'], 'genomic_locs': [7404490]}\n",
      "pseudogymnoascus_destructans {'strands': ['F', 'F', 'F'], 'guides': ['GCAATAATCTCCTGCACATT', 'AAGCCATACTTCATCTACCC', 'TTCAACAACACCTTCAAGAA'], 'genomic_locs': [2320636, 28940265, 7877025]}\n",
      "neurospora_crassa {'strands': ['R', 'F', 'F', 'R'], 'guides': ['GCAATAATCTCCTGCACATT', 'ATGGTCTTGAGGAACTGCTT', 'AAGCCCTACTTCATCTACCC', 'GCGTACAAGTGGTCGATACC'], 'genomic_locs': [14826864, 23091550, 27842716, 13259882]}\n",
      "candida_pseudohaemulonii {'strands': ['R', 'F', 'F'], 'guides': ['ATTGGTACTGCTGGTGGTAC', 'TCGTTACACCAGATCTCCAT', 'GCGTACAAGTGGTCGATACC'], 'genomic_locs': [4272169, 9609833, 9220475]}\n",
      "dothidotthia_symphoricarpi {'strands': ['F', 'F', 'F', 'F', 'R'], 'guides': ['ATTGTCGAGAACCGTTTCAT', 'ATGGTCTTGAGGAACTGCTT', 'TGGCCGAAGTGGCCGACGCC', 'GCTGACAACATCAACACCGA', 'AAGCCATACTTCATCTACCC'], 'genomic_locs': [31737656, 28499031, 664990, 16994382, 16082699]}\n",
      "cladophialophora_carrionii {'strands': ['F', 'F', 'R'], 'guides': ['ATTGTCGAGAACCGTTTCAT', 'CACAAGCCTATCATGATTGC', 'GGCTTGTCGATCTTGCCGTT'], 'genomic_locs': [18961431, 13530714, 26154970]}\n",
      "aspergillus_ibericus {'strands': ['R', 'F', 'F'], 'guides': ['ATTGTCGAGAACCGTTTCAT', 'CACAAGCCTATCATGATTGC', 'AAGCCCTACTTCATCTACCC'], 'genomic_locs': [20577556, 23680349, 25829885]}\n",
      "daldinia_loculata {'strands': ['R', 'R'], 'guides': ['ATCACCGTCATGAACGAGAT', 'TTCAACAACACCTTCAAGAA'], 'genomic_locs': [20498414, 31793985]}\n",
      "pseudomicrostroma_glucosiphilum {'strands': ['R'], 'guides': ['ATCACCGTCATGAACGAGAT'], 'genomic_locs': [9365307]}\n",
      "emericellopsis_cladophorae {'strands': ['R', 'R'], 'guides': ['ATCACCGTCATGAACGAGAT', 'AAGCCCTACTTCATCTACCC'], 'genomic_locs': [26251721, 26252060]}\n",
      "daldinia_childiae {'strands': ['F', 'F'], 'guides': ['ATCACCGTCATGAACGAGAT', 'TTCAACAACACCTTCAAGAA'], 'genomic_locs': [15433038, 23257420]}\n",
      "colletotrichum_karsti {'strands': ['F', 'R'], 'guides': ['ATCACCGTCATGAACGAGAT', 'TGGCCGAAGTGGCCGACGCC'], 'genomic_locs': [23868923, 50669614]}\n",
      "cryptococcus_wingfieldii {'strands': ['R'], 'guides': ['TCGTTACACCAGATCTCCAT'], 'genomic_locs': [5666784]}\n",
      "diutina_rugosa {'strands': ['R', 'F'], 'guides': ['TCGTTACACCAGATCTCCAT', 'GCGTACAAGTGGTCGATACC'], 'genomic_locs': [9059699, 11193477]}\n",
      "trametes_versicolor {'strands': ['R'], 'guides': ['AAGCCTATCATGATCGCTGG'], 'genomic_locs': [35914278]}\n",
      "penicillium_digitatum {'strands': ['F'], 'guides': ['AAGCCTATCATGATCGCTGG'], 'genomic_locs': [14999871]}\n",
      "aspergillus_fischeri {'strands': ['R'], 'guides': ['GGCTTGTCGATCTTGCCGTT'], 'genomic_locs': [2340466]}\n",
      "pseudozyma_flocculosa {'strands': ['F'], 'guides': ['GGCTTGTCGATCTTGCCGTT'], 'genomic_locs': [11942891]}\n",
      "trichophyton_verrucosum {'strands': ['F', 'F'], 'guides': ['CGAGGAAGCAGACGACCTCA', 'AAGCCATACTTCATCTACCC'], 'genomic_locs': [21244232, 9825850]}\n",
      "microsporum_canis {'strands': ['F', 'F'], 'guides': ['CGAGGAAGCAGACGACCTCA', 'AAGCCATACTTCATCTACCC'], 'genomic_locs': [20275842, 4890138]}\n",
      "neoarthrinium_moseri {'strands': ['R'], 'guides': ['TGGCCGAAGTGGCCGACGCC'], 'genomic_locs': [18915719]}\n",
      "diplodia_corticola {'strands': ['R'], 'guides': ['GATGATCAAGTCAAAATTCG'], 'genomic_locs': [25037694]}\n",
      "serpula_lacrymans {'strands': ['R'], 'guides': ['GATGATCAAGTCAAAATTCG'], 'genomic_locs': [35515561]}\n",
      "nannizzia_gypsea {'strands': ['F'], 'guides': ['AAGCCATACTTCATCTACCC'], 'genomic_locs': [4682278]}\n",
      "sphaerulina_musiva {'strands': ['F'], 'guides': ['AAGCCATACTTCATCTACCC'], 'genomic_locs': [17223738]}\n"
     ]
    }
   ],
   "source": [
    "# {\n",
    "#    'daldinia_loculata': loc:[1, 2], strands:[F, R], guides:[A, B]\n",
    "# }\n",
    "\n",
    "class GuideStrandLoc:\n",
    "    def __init__(self) -> None:\n",
    "        self.strands: list[str] = list()\n",
    "        self.guides: list[str] = list()\n",
    "        self.genomic_locs: list[int] = list()\n",
    "\n",
    "\n",
    "    @property\n",
    "    def attributes(self) -> dict[str, list[str] | list[int]]:\n",
    "        return dict({\n",
    "            'strands': self.strands,\n",
    "            'guides': self.guides,\n",
    "            'genomic_locs': self.genomic_locs,\n",
    "        })\n",
    "\n",
    "\n",
    "    def update(self, guide: str, strand: str, loc: int) -> None:\n",
    "        self.strands.append(strand)\n",
    "        self.guides.append(guide)\n",
    "        self.genomic_locs.append(loc)\n",
    "\n",
    "\n",
    "species_to_info = dict()\n",
    "\n",
    "for seq, obj in target_seq_objects.items():\n",
    "    for i in range(len(obj.species)):\n",
    "        species_to_info.setdefault(obj.species[i], GuideStrandLoc()).update(\n",
    "            guide=seq,\n",
    "            strand=obj.strands[i],\n",
    "            loc=obj.genomic_locs[i]\n",
    "        )\n",
    "\n",
    "\n",
    "for k, v in species_to_info.items():\n",
    "    print(k, v.attributes)"
   ]
  }
 ],
 "metadata": {
  "kernelspec": {
   "display_name": "allegro",
   "language": "python",
   "name": "python3"
  },
  "language_info": {
   "codemirror_mode": {
    "name": "ipython",
    "version": 3
   },
   "file_extension": ".py",
   "mimetype": "text/x-python",
   "name": "python",
   "nbconvert_exporter": "python",
   "pygments_lexer": "ipython3",
   "version": "3.10.4 (main, Mar 31 2022, 08:41:55) [GCC 7.5.0]"
  },
  "orig_nbformat": 4,
  "vscode": {
   "interpreter": {
    "hash": "66305d5341bcc90f0e236382a922a6a93724369df31dd2302786be3a10a6587f"
   }
  }
 },
 "nbformat": 4,
 "nbformat_minor": 2
}
