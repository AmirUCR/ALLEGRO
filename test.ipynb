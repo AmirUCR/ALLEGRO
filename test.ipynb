{
 "cells": [
  {
   "cell_type": "code",
   "execution_count": 10,
   "metadata": {},
   "outputs": [
    {
     "data": {
      "text/plain": [
       "[100, 200, 300, 400, 500, 600, 700, 800, 900]"
      ]
     },
     "execution_count": 10,
     "metadata": {},
     "output_type": "execute_result"
    }
   ],
   "source": [
    "[i for i in range(100, 1000, 100)]"
   ]
  },
  {
   "cell_type": "code",
   "execution_count": 11,
   "metadata": {},
   "outputs": [
    {
     "data": {
      "text/plain": [
       "[1000, 1100, 1200, 1300, 1400]"
      ]
     },
     "execution_count": 11,
     "metadata": {},
     "output_type": "execute_result"
    }
   ],
   "source": [
    "[i for i in range(1000, 1500, 100)]"
   ]
  },
  {
   "cell_type": "code",
   "execution_count": 12,
   "metadata": {},
   "outputs": [
    {
     "data": {
      "text/plain": [
       "[1500, 1600]"
      ]
     },
     "execution_count": 12,
     "metadata": {},
     "output_type": "execute_result"
    }
   ],
   "source": [
    "[i for i in range(1500, 1700, 100)]"
   ]
  },
  {
   "cell_type": "code",
   "execution_count": 13,
   "metadata": {},
   "outputs": [
    {
     "data": {
      "text/plain": [
       "[1700, 1800]"
      ]
     },
     "execution_count": 13,
     "metadata": {},
     "output_type": "execute_result"
    }
   ],
   "source": [
    "[i for i in range(1700, 1900, 100)]"
   ]
  },
  {
   "cell_type": "code",
   "execution_count": 14,
   "metadata": {},
   "outputs": [
    {
     "data": {
      "text/plain": [
       "[1900, 2000]"
      ]
     },
     "execution_count": 14,
     "metadata": {},
     "output_type": "execute_result"
    }
   ],
   "source": [
    "[i for i in range(1900, 2100, 100)]"
   ]
  },
  {
   "cell_type": "code",
   "execution_count": 15,
   "metadata": {},
   "outputs": [
    {
     "data": {
      "text/plain": [
       "[100, 200, 300, 400, 500, 600, 700, 800, 900, 1000, 1100, 1200, 1300, 1400]"
      ]
     },
     "execution_count": 15,
     "metadata": {},
     "output_type": "execute_result"
    }
   ],
   "source": [
    "[i for i in range(100, 1500, 100)]"
   ]
  },
  {
   "cell_type": "code",
   "execution_count": 18,
   "metadata": {},
   "outputs": [
    {
     "data": {
      "text/plain": [
       "[('track_a', 7, 100),\n",
       " ('track_a', 7, 200),\n",
       " ('track_a', 7, 300),\n",
       " ('track_a', 7, 400),\n",
       " ('track_a', 7, 500),\n",
       " ('track_a', 7, 600),\n",
       " ('track_a', 7, 700),\n",
       " ('track_a', 7, 800),\n",
       " ('track_a', 7, 900),\n",
       " ('track_a', 7, 1000),\n",
       " ('track_a', 7, 1100),\n",
       " ('track_a', 7, 1200),\n",
       " ('track_a', 7, 1300),\n",
       " ('track_a', 7, 1400),\n",
       " ('track_a', 7, 1500),\n",
       " ('track_a', 7, 1600),\n",
       " ('track_a', 7, 1700),\n",
       " ('track_a', 7, 1800),\n",
       " ('track_a', 7, 1900),\n",
       " ('track_a', 7, 2000),\n",
       " ('track_e', 1, 100),\n",
       " ('track_e', 1, 200),\n",
       " ('track_e', 1, 300),\n",
       " ('track_e', 1, 400),\n",
       " ('track_e', 1, 500),\n",
       " ('track_e', 1, 600),\n",
       " ('track_e', 1, 700),\n",
       " ('track_e', 1, 800),\n",
       " ('track_e', 1, 900),\n",
       " ('track_e', 1, 1000),\n",
       " ('track_e', 1, 1100),\n",
       " ('track_e', 1, 1200),\n",
       " ('track_e', 1, 1300),\n",
       " ('track_e', 1, 1400),\n",
       " ('track_e', 1, 1500),\n",
       " ('track_e', 1, 1600),\n",
       " ('track_e', 1, 1700),\n",
       " ('track_e', 1, 1800),\n",
       " ('track_e', 1, 1900),\n",
       " ('track_e', 1, 2000),\n",
       " ('track_e', 1, 2100),\n",
       " ('track_e', 1, 2200),\n",
       " ('track_e', 1, 2300),\n",
       " ('track_e', 1, 2400),\n",
       " ('track_e', 1, 2500),\n",
       " ('track_e', 1, 2600),\n",
       " ('track_e', 1, 2700),\n",
       " ('track_e', 1, 2800),\n",
       " ('track_e', 1, 2900),\n",
       " ('track_e', 1, 3000),\n",
       " ('track_e', 1, 3100),\n",
       " ('track_e', 1, 3200),\n",
       " ('track_e', 1, 3300),\n",
       " ('track_e', 1, 3400),\n",
       " ('track_e', 1, 3500),\n",
       " ('track_e', 1, 3600),\n",
       " ('track_e', 1, 3700),\n",
       " ('track_e', 1, 3800),\n",
       " ('track_e', 1, 3900),\n",
       " ('track_e', 1, 4000),\n",
       " ('track_e', 1, 4100),\n",
       " ('track_e', 1, 4200),\n",
       " ('track_e', 1, 4300),\n",
       " ('track_e', 1, 4400),\n",
       " ('track_e', 1, 4500)]"
      ]
     },
     "execution_count": 18,
     "metadata": {},
     "output_type": "execute_result"
    }
   ],
   "source": [
    "tracks = ['track_a', 'track_e']\n",
    "multiplicities = [7, 1]\n",
    "est_required_guides_list = [2000, 4500]\n",
    "\n",
    "tasks = list()\n",
    "\n",
    "for i in range(100, 2100, 100):\n",
    "    tasks.append(('track_a', 7, i))\n",
    "\n",
    "for i in range(100, 4600, 100):\n",
    "    tasks.append(('track_e', 1, i))\n",
    "tasks"
   ]
  },
  {
   "cell_type": "code",
   "execution_count": 23,
   "metadata": {},
   "outputs": [
    {
     "data": {
      "text/plain": [
       "[('track_a', 7, 1),\n",
       " ('track_a', 7, 2),\n",
       " ('track_a', 7, 3),\n",
       " ('track_a', 7, 5),\n",
       " ('track_a', 7, 6),\n",
       " ('track_a', 7, 8),\n",
       " ('track_a', 7, 11),\n",
       " ('track_a', 7, 14),\n",
       " ('track_a', 7, 19),\n",
       " ('track_a', 7, 25),\n",
       " ('track_a', 7, 32),\n",
       " ('track_a', 7, 43),\n",
       " ('track_a', 7, 56),\n",
       " ('track_a', 7, 73),\n",
       " ('track_a', 7, 96),\n",
       " ('track_a', 7, 126),\n",
       " ('track_a', 7, 165),\n",
       " ('track_a', 7, 216),\n",
       " ('track_a', 7, 283),\n",
       " ('track_a', 7, 370),\n",
       " ('track_a', 7, 484),\n",
       " ('track_a', 7, 634),\n",
       " ('track_a', 7, 830),\n",
       " ('track_a', 7, 1086),\n",
       " ('track_a', 7, 1421),\n",
       " ('track_a', 7, 1860),\n",
       " ('track_a', 7, 2434),\n",
       " ('track_e', 1, 1),\n",
       " ('track_e', 1, 2),\n",
       " ('track_e', 1, 3),\n",
       " ('track_e', 1, 5),\n",
       " ('track_e', 1, 6),\n",
       " ('track_e', 1, 8),\n",
       " ('track_e', 1, 11),\n",
       " ('track_e', 1, 14),\n",
       " ('track_e', 1, 19),\n",
       " ('track_e', 1, 25),\n",
       " ('track_e', 1, 32),\n",
       " ('track_e', 1, 43),\n",
       " ('track_e', 1, 56),\n",
       " ('track_e', 1, 73),\n",
       " ('track_e', 1, 96),\n",
       " ('track_e', 1, 126),\n",
       " ('track_e', 1, 165),\n",
       " ('track_e', 1, 216),\n",
       " ('track_e', 1, 283),\n",
       " ('track_e', 1, 370),\n",
       " ('track_e', 1, 484),\n",
       " ('track_e', 1, 634),\n",
       " ('track_e', 1, 830),\n",
       " ('track_e', 1, 1086),\n",
       " ('track_e', 1, 1421),\n",
       " ('track_e', 1, 1860),\n",
       " ('track_e', 1, 2434)]"
      ]
     },
     "execution_count": 23,
     "metadata": {},
     "output_type": "execute_result"
    }
   ],
   "source": [
    "increments = [1, 2, 3, 5, 6, 8, 11, 14, 19, 25, 32, 43, 56, 73, 96, 126, 165, 216, 283, 370, 484, 634, 830, 1086, 1421, 1860, 2434]\n",
    "\n",
    "tasks = list()\n",
    "\n",
    "for i in increments:\n",
    "    tasks.append(('track_a', 7, i))\n",
    "\n",
    "for i in increments:\n",
    "    tasks.append(('track_e', 1, i))\n",
    "\n",
    "tasks"
   ]
  },
  {
   "cell_type": "code",
   "execution_count": 7,
   "metadata": {},
   "outputs": [
    {
     "data": {
      "text/plain": [
       "[[0,\n",
       "  1,\n",
       "  2,\n",
       "  3,\n",
       "  4,\n",
       "  5,\n",
       "  6,\n",
       "  7,\n",
       "  8,\n",
       "  9,\n",
       "  10,\n",
       "  11,\n",
       "  12,\n",
       "  13,\n",
       "  14,\n",
       "  15,\n",
       "  16,\n",
       "  17,\n",
       "  18,\n",
       "  19,\n",
       "  20,\n",
       "  21,\n",
       "  22,\n",
       "  23,\n",
       "  24,\n",
       "  25,\n",
       "  26,\n",
       "  27,\n",
       "  28,\n",
       "  29,\n",
       "  30,\n",
       "  31,\n",
       "  32],\n",
       " [33,\n",
       "  34,\n",
       "  35,\n",
       "  36,\n",
       "  37,\n",
       "  38,\n",
       "  39,\n",
       "  40,\n",
       "  41,\n",
       "  42,\n",
       "  43,\n",
       "  44,\n",
       "  45,\n",
       "  46,\n",
       "  47,\n",
       "  48,\n",
       "  49,\n",
       "  50,\n",
       "  51,\n",
       "  52,\n",
       "  53,\n",
       "  54,\n",
       "  55,\n",
       "  56,\n",
       "  57,\n",
       "  58,\n",
       "  59,\n",
       "  60,\n",
       "  61,\n",
       "  62,\n",
       "  63,\n",
       "  64,\n",
       "  65],\n",
       " [66,\n",
       "  67,\n",
       "  68,\n",
       "  69,\n",
       "  70,\n",
       "  71,\n",
       "  72,\n",
       "  73,\n",
       "  74,\n",
       "  75,\n",
       "  76,\n",
       "  77,\n",
       "  78,\n",
       "  79,\n",
       "  80,\n",
       "  81,\n",
       "  82,\n",
       "  83,\n",
       "  84,\n",
       "  85,\n",
       "  86,\n",
       "  87,\n",
       "  88,\n",
       "  89,\n",
       "  90,\n",
       "  91,\n",
       "  92,\n",
       "  93,\n",
       "  94,\n",
       "  95,\n",
       "  96,\n",
       "  97,\n",
       "  98,\n",
       "  99]]"
      ]
     },
     "execution_count": 7,
     "metadata": {},
     "output_type": "execute_result"
    }
   ],
   "source": [
    "l = [[i for i in range(33 * n - 33, 33 * n)] for n in range(1, 4)]\n",
    "\n",
    "l[2].append(99)\n",
    "\n",
    "l"
   ]
  }
 ],
 "metadata": {
  "kernelspec": {
   "display_name": "ml",
   "language": "python",
   "name": "python3"
  },
  "language_info": {
   "codemirror_mode": {
    "name": "ipython",
    "version": 3
   },
   "file_extension": ".py",
   "mimetype": "text/x-python",
   "name": "python",
   "nbconvert_exporter": "python",
   "pygments_lexer": "ipython3",
   "version": "3.10.4"
  },
  "orig_nbformat": 4
 },
 "nbformat": 4,
 "nbformat_minor": 2
}
