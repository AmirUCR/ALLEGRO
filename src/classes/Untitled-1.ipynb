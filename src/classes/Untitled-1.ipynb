{
 "cells": [
  {
   "cell_type": "code",
   "execution_count": 1,
   "metadata": {},
   "outputs": [],
   "source": [
    "# class Guide:\n",
    "#     __slots__ = ['pam', 'strand', 'score', 'sequence', 'endonuclease', \n",
    "#     'genomic_location', 'sequence_with_context', 'guide_container_metadata_dict']\n",
    "    \n",
    "#     pam: str\n",
    "#     strand: str\n",
    "#     score: float\n",
    "#     sequence: str\n",
    "#     endonuclease: str\n",
    "#     genomic_location: int\n",
    "#     sequence_with_context: str\n",
    "#     guide_container_metadata_dict: dict[str, str | int]\n",
    "\n",
    "#     def __init__(\n",
    "#         self,\n",
    "#         pam: str,\n",
    "#         strand: str,\n",
    "#         score: float,\n",
    "#         sequence: str,\n",
    "#         endonuclease: str,\n",
    "#         genomic_location: int,\n",
    "#         guide_container_metadata_dict: dict[str, str | int],\n",
    "#         sequence_with_context: str = '',\n",
    "#         ) -> None:\n",
    "\n",
    "#         self.pam = pam\n",
    "#         self.score = score\n",
    "#         self.strand = strand\n",
    "#         self.sequence = sequence\n",
    "#         self.endonuclease = endonuclease\n",
    "#         self.genomic_location = genomic_location\n",
    "#         self.sequence_with_context = sequence_with_context\n",
    "#         self.guide_container_metadata_dict = guide_container_metadata_dict\n",
    "\n",
    "    \n",
    "#     def get_attributes_dict(self) -> dict[str, str | int]:\n",
    "#         guide_attributes = dict({\n",
    "#             'guide_pam': self.pam,\n",
    "#             'guide_score': self.score,\n",
    "#             'guide_strand': self.strand,\n",
    "#             'guide_sequence': self.sequence,\n",
    "#             'guide_endonuclease': self.endonuclease,\n",
    "#             'guide_genomic_location': self.genomic_location,\n",
    "#             'guide_sequence_with_context': self.sequence_with_context,  # Chopchop scorer does not return context\n",
    "#         })\n",
    "\n",
    "#         # merge dictionaries with the | operator\n",
    "#         return guide_attributes | self.guide_container_metadata_dict\n",
    "\n",
    "\n",
    "# class GuideWOSlots:\n",
    "#     def __init__(\n",
    "#         self,\n",
    "#         pam: str,\n",
    "#         strand: str,\n",
    "#         score: float,\n",
    "#         sequence: str,\n",
    "#         endonuclease: str,\n",
    "#         genomic_location: int,\n",
    "#         guide_container_metadata_dict: dict[str, str | int],\n",
    "#         sequence_with_context: str = '',\n",
    "#         ) -> None:\n",
    "\n",
    "#         self.pam: str = pam\n",
    "#         self.score: float = score\n",
    "#         self.strand: str = strand\n",
    "#         self.sequence: str = sequence\n",
    "#         self.endonuclease: str = endonuclease\n",
    "#         self.genomic_location: int = genomic_location\n",
    "#         self.sequence_with_context: str = sequence_with_context\n",
    "#         self.guide_container_metadata_dict: dict[str, str | int] = guide_container_metadata_dict\n",
    "\n",
    "    \n",
    "#     def get_attributes_dict(self) -> dict[str, str | int]:\n",
    "#         guide_attributes = dict({\n",
    "#             'guide_pam': self.pam,\n",
    "#             'guide_score': self.score,\n",
    "#             'guide_strand': self.strand,\n",
    "#             'guide_sequence': self.sequence,\n",
    "#             'guide_endonuclease': self.endonuclease,\n",
    "#             'guide_genomic_location': self.genomic_location,\n",
    "#             'guide_sequence_with_context': self.sequence_with_context,  # Chopchop scorer does not return context\n",
    "#         })\n",
    "\n",
    "#         # merge dictionaries with the | operator\n",
    "#         return guide_attributes | self.guide_container_metadata_dict\n",
    "\n",
    "\n",
    "\n",
    "# class OptimziedGuide:\n",
    "#     __slots__ = ['pam', 'strand', 'score', 'sequence', 'endonuclease', \n",
    "#     'genomic_location', 'sequence_with_context', 'guide_container_metadata_dict']\n",
    "    \n",
    "#     pam: str\n",
    "#     strand: bytes\n",
    "#     score: float\n",
    "#     sequence: str\n",
    "#     endonuclease: str\n",
    "#     genomic_location: int\n",
    "#     sequence_with_context: str\n",
    "#     guide_container_metadata_dict: dict[str, str | int]\n",
    "\n",
    "#     def __init__(\n",
    "#         self,\n",
    "#         pam: str,\n",
    "#         strand: bytes,\n",
    "#         score: float,\n",
    "#         sequence: str,\n",
    "#         endonuclease: str,\n",
    "#         genomic_location: int,\n",
    "#         guide_container_metadata_dict: dict[str, str | int],\n",
    "#         sequence_with_context: str = '',\n",
    "#         ) -> None:\n",
    "\n",
    "#         self.pam = pam\n",
    "#         self.score = score\n",
    "#         self.strand = strand\n",
    "#         self.sequence = sequence\n",
    "#         self.endonuclease = endonuclease\n",
    "#         self.genomic_location = genomic_location\n",
    "#         self.sequence_with_context = sequence_with_context\n",
    "#         self.guide_container_metadata_dict = guide_container_metadata_dict\n",
    "\n",
    "    \n",
    "#     def get_attributes_dict(self) -> dict[str, str | int]:\n",
    "#         guide_attributes = dict({\n",
    "#             'guide_pam': self.pam,\n",
    "#             'guide_score': self.score,\n",
    "#             'guide_strand': self.strand,\n",
    "#             'guide_sequence': self.sequence,\n",
    "#             'guide_endonuclease': self.endonuclease,\n",
    "#             'guide_genomic_location': self.genomic_location,\n",
    "#             'guide_sequence_with_context': self.sequence_with_context,  # Chopchop scorer does not return context\n",
    "#         })\n",
    "\n",
    "#         # merge dictionaries with the | operator\n",
    "#         return guide_attributes | self.guide_container_metadata_dict"
   ]
  },
  {
   "cell_type": "code",
   "execution_count": 2,
   "metadata": {},
   "outputs": [],
   "source": [
    "# meta = {\n",
    "#         'genome_string_id': 'NCCADONWAD',\n",
    "#         'genome_integer_id': 1,\n",
    "#         'genome_species_name': 'yarrowia whogivesafuck',\n",
    "#     }\n",
    "    \n",
    "# gs = [Guide(\n",
    "#     pam='NGG',\n",
    "#     strand='R',\n",
    "#     score=1.0,\n",
    "#     sequence='ACGTGCACGTGCACGTGCAC',\n",
    "#     endonuclease='cas9',\n",
    "#     genomic_location=1223,\n",
    "#     guide_container_metadata_dict=meta,\n",
    "#     sequence_with_context='AAAAAACGTGCACGTGCACGTGCACNGGCCC',\n",
    "# ) for f in range(1000000)]\n",
    "\n",
    "# gwos = [GuideWOSlots(\n",
    "#     pam='NGG',\n",
    "#     strand='R',\n",
    "#     score=1.0,\n",
    "#     sequence='ACGTGCACGTGCACGTGCAC',\n",
    "#     endonuclease='cas9',\n",
    "#     genomic_location=1223,\n",
    "#     guide_container_metadata_dict=meta,\n",
    "#     sequence_with_context='AAAAAACGTGCACGTGCACGTGCACNGGCCC',\n",
    "# ) for b in range(1000000)]"
   ]
  },
  {
   "cell_type": "code",
   "execution_count": 3,
   "metadata": {},
   "outputs": [],
   "source": [
    "# g = Guide(\n",
    "#     pam='NGG',\n",
    "#     strand='R',\n",
    "#     score=1.0,\n",
    "#     sequence='ACGTGCACGTGCACGTGCAC',\n",
    "#     endonuclease='cas9',\n",
    "#     genomic_location=1223,\n",
    "#     guide_container_metadata_dict=meta,\n",
    "#     sequence_with_context='AAAAAACGTGCACGTGCACGTGCACNGGCCC'\n",
    "# )\n",
    "\n",
    "# gwo = GuideWOSlots(\n",
    "#     pam='NGG',\n",
    "#     strand='R',\n",
    "#     score=1.0,\n",
    "#     sequence='ACGTGCACGTGCACGTGCAC',\n",
    "#     endonuclease='cas9',\n",
    "#     genomic_location=1223,\n",
    "#     guide_container_metadata_dict=meta,\n",
    "#     sequence_with_context='AAAAAACGTGCACGTGCACGTGCACNGGCCC',\n",
    "# )"
   ]
  },
  {
   "cell_type": "code",
   "execution_count": 4,
   "metadata": {},
   "outputs": [],
   "source": [
    "# guide_attributes = dict({\n",
    "#             'guide_pam': 'NGG',\n",
    "#             'guide_score': '1',\n",
    "#             'guide_strand': 'R',\n",
    "#             'guide_sequence': 'ACGTGCACGTGCACGTGCAC',\n",
    "#             'guide_endonuclease': 'cas9',\n",
    "#             'guide_genomic_location': 1223,\n",
    "#             'guide_sequence_with_context': 'AAAAAACGTGCACGTGCACGTGCACNGGCCC',\n",
    "#         })\n",
    "\n"
   ]
  },
  {
   "cell_type": "code",
   "execution_count": 33,
   "metadata": {},
   "outputs": [
    {
     "data": {
      "text/plain": [
       "8000056"
      ]
     },
     "execution_count": 33,
     "metadata": {},
     "output_type": "execute_result"
    }
   ],
   "source": [
    "# s = 'ACTGACTGACTGACTGACTG'\n",
    "\n",
    "fr = ['F'] * 1000000\n",
    "frb = [True] * 1000000\n",
    "\n",
    "sys.getsizeof(fr)"
   ]
  },
  {
   "cell_type": "code",
   "execution_count": 44,
   "metadata": {},
   "outputs": [
    {
     "data": {
      "text/plain": [
       "1664"
      ]
     },
     "execution_count": 44,
     "metadata": {},
     "output_type": "execute_result"
    }
   ],
   "source": [
    "import sys\n",
    "from collections import namedtuple\n",
    "\n",
    "GuideTupe = namedtuple('GuideTupe', ['sequence', 'score', 'covers'])\n",
    "# g = [GuideTupe(586406201480.0, 1.0, 123456.0, 88.0) for _ in range(1000000)]\n",
    "\n",
    "sys.getsizeof(GuideTupe('ABCDABCDABCDABCDABCD', 22.2, {1, 2, 3})) * 26\n",
    "\n",
    "\n",
    "d = {\n",
    "    'ABCDABCDABCDABCDABCD': (22.12, {1, 2, 3}),\n",
    "    'bBCDABCDABCDABCDABCD': (22.12, {1, 2, 3}),\n",
    "    'cBCDABCDABCDABCDABCD': (22.12, {1, 2, 3}),\n",
    "    'dBCDABCDABCDABCDABCD': (22.12, {1, 2, 3}),\n",
    "    'eBCDABCDABCDABCDABCD': (22.12, {1, 2, 3}),\n",
    "    'fBCDABCDABCDABCDABCD': (22.12, {1, 2, 3}),\n",
    "    'gBCDABCDABCDABCDABCD': (22.12, {1, 2, 3}),\n",
    "    'hBCDABCDABCDABCDABCD': (22.12, {1, 2, 3}),\n",
    "    'iBCDABCDABCDABCDABCD': (22.12, {1, 2, 3}),\n",
    "    'jBCDABCDABCDABCDABCD': (22.12, {1, 2, 3}),\n",
    "    'kBCDABCDABCDABCDABCD': (22.12, {1, 2, 3}),\n",
    "    'lBCDABCDABCDABCDABCD': (22.12, {1, 2, 3}),\n",
    "    'mBCDABCDABCDABCDABCD': (22.12, {1, 2, 3}),\n",
    "    'nBCDABCDABCDABCDABCD': (22.12, {1, 2, 3}),\n",
    "    'oBCDABCDABCDABCDABCD': (22.12, {1, 2, 3}),\n",
    "    'pBCDABCDABCDABCDABCD': (22.12, {1, 2, 3}),\n",
    "    'qBCDABCDABCDABCDABCD': (22.12, {1, 2, 3}),\n",
    "    'rBCDABCDABCDABCDABCD': (22.12, {1, 2, 3}),\n",
    "    'sBCDABCDABCDABCDABCD': (22.12, {1, 2, 3}),\n",
    "    'tBCDABCDABCDABCDABCD': (22.12, {1, 2, 3}),\n",
    "    'uBCDABCDABCDABCDABCD': (22.12, {1, 2, 3}),\n",
    "    'vBCDABCDABCDABCDABCD': (22.12, {1, 2, 3}),\n",
    "    'wBCDABCDABCDABCDABCD': (22.12, {1, 2, 3}),\n",
    "    'xBCDABCDABCDABCDABCD': (22.12, {1, 2, 3}),\n",
    "    'yBCDABCDABCDABCDABCD': (22.12, {1, 2, 3}),\n",
    "    'zBCDABCDABCDABCDABCD': (22.12, {1, 2, 3}),\n",
    "}\n",
    "\n",
    "sys.getsizeof(d)"
   ]
  },
  {
   "cell_type": "code",
   "execution_count": 57,
   "metadata": {},
   "outputs": [
    {
     "data": {
      "text/plain": [
       "80448824"
      ]
     },
     "execution_count": 57,
     "metadata": {},
     "output_type": "execute_result"
    }
   ],
   "source": [
    "asizeof.asizeof(g)"
   ]
  },
  {
   "cell_type": "code",
   "execution_count": 25,
   "metadata": {},
   "outputs": [],
   "source": [
    "import numpy\n",
    "\n",
    "class Dummy:\n",
    "    __slots__ = ['str_id', 'species']\n",
    "    str_id: str\n",
    "    species: float\n",
    "\n",
    "    def __init__(self, str_id: str, species: float) -> None:\n",
    "        self.str_id = str_id\n",
    "        self.species = species\n",
    "        \n",
    "\n",
    "class Guide:\n",
    "    __slots__ = ['strand', 'score', 'sequence', 'genomic_location', \n",
    "    # 'dummy'\n",
    "    'str_id',\n",
    "    'species',\n",
    "    # 'dee'\n",
    "    ]\n",
    "    strand: float\n",
    "    score: float\n",
    "    sequence: float\n",
    "    genomic_location: float\n",
    "    str_id: str\n",
    "    species: str\n",
    "    # dee: dict[str, float]\n",
    "    # dummy: Dummy\n",
    "\n",
    "    def __init__(\n",
    "        self,\n",
    "        sequence: float,\n",
    "        strand: float,\n",
    "        genomic_location: float,\n",
    "        score: float,\n",
    "        str_id: str,\n",
    "        species: str\n",
    "        # dee: dict[str, float]\n",
    "        # dummy: Dummy\n",
    "    ) -> None:\n",
    "        self.score = score\n",
    "        self.strand = strand\n",
    "        self.sequence = sequence\n",
    "        self.genomic_location = genomic_location\n",
    "        self.species = species\n",
    "        self.str_id = str_id\n",
    "        # self.dummy = Dummy\n",
    "        # self.dee = dee\n",
    "\n",
    "    def d(self) -> None:\n",
    "        del self.sequence\n",
    "    \n",
    "    \n",
    "# d = Dummy('ASHCBJHABS', 'yarrowia')\n",
    "\n",
    "# d = {\n",
    "#     'species': 9.0,\n",
    "#     'strid': 'avsbascad'\n",
    "# }\n",
    "\n",
    "lol = [Guide(586406201480.0, 1.0, 123456.0, 88.0, 'vchfcgd', 'dtdyrtuyf') for _ in range(1000000)]"
   ]
  },
  {
   "cell_type": "code",
   "execution_count": 26,
   "metadata": {},
   "outputs": [
    {
     "data": {
      "text/plain": [
       "296"
      ]
     },
     "execution_count": 26,
     "metadata": {},
     "output_type": "execute_result"
    }
   ],
   "source": [
    "from pympler import asizeof\n",
    "import sys\n",
    "# asizeof.asizeof(Guide(586406201480.0, BitVector(intVal=1), 123456.0, 88.0))\n",
    "asizeof.asizeof(Guide(586406201480.0, 1.0, 123456.0, 88.0, 'vchfcgd', 'dtdyrtuyf'))\n",
    "# 312449136\n",
    "#  72448824"
   ]
  },
  {
   "cell_type": "code",
   "execution_count": 17,
   "metadata": {},
   "outputs": [
    {
     "data": {
      "text/plain": [
       "Partition of a set of 1532786 objects. Total size = 139766470 bytes.\n",
       " Index  Count   %     Size   % Cumulative  % Kind (class / dict of class)\n",
       "     0 1000000  65 72000000  52  72000000  52 __main__.Guide\n",
       "     1 134472   9 16649726  12  88649726  63 str\n",
       "     2  14013   1 10839616   8  99489342  71 list\n",
       "     3 120549   8  8205808   6 107695150  77 tuple\n",
       "     4  25630   2  4588488   3 112283638  80 types.CodeType\n",
       "     5  41817   3  3453148   2 115736786  83 bytes\n",
       "     6   3286   0  3327328   2 119064114  85 type\n",
       "     7  22931   1  3302064   2 122366178  88 function\n",
       "     8  81429   5  2298140   2 124664318  89 int\n",
       "     9   6616   0  2283280   2 126947598  91 dict (no owner)\n",
       "<1270 more rows. Type e.g. '_.more' to view.>"
      ]
     },
     "execution_count": 17,
     "metadata": {},
     "output_type": "execute_result"
    }
   ],
   "source": [
    "from guppy import hpy; h=hpy()\n",
    "\n",
    "h.heap() # 64, 72, 80, 72"
   ]
  },
  {
   "cell_type": "code",
   "execution_count": 25,
   "metadata": {},
   "outputs": [],
   "source": [
    "for i in lol:\n",
    "    i.d()"
   ]
  },
  {
   "cell_type": "code",
   "execution_count": 85,
   "metadata": {},
   "outputs": [
    {
     "data": {
      "text/plain": [
       "25"
      ]
     },
     "execution_count": 85,
     "metadata": {},
     "output_type": "execute_result"
    }
   ],
   "source": [
    "sys.getsizeof(numpy.bool8(0))"
   ]
  },
  {
   "cell_type": "code",
   "execution_count": 20,
   "metadata": {},
   "outputs": [
    {
     "data": {
      "text/plain": [
       "84"
      ]
     },
     "execution_count": 20,
     "metadata": {},
     "output_type": "execute_result"
    }
   ],
   "source": [
    "from bitarray import bitarray\n",
    "\n",
    "ba = bitarray('1')\n",
    "\n",
    "sys.getsizeof(ba)"
   ]
  },
  {
   "cell_type": "code",
   "execution_count": 62,
   "metadata": {},
   "outputs": [
    {
     "data": {
      "text/plain": [
       "4"
      ]
     },
     "execution_count": 62,
     "metadata": {},
     "output_type": "execute_result"
    }
   ],
   "source": [
    "struct.calcsize('<I')"
   ]
  },
  {
   "cell_type": "code",
   "execution_count": 127,
   "metadata": {},
   "outputs": [
    {
     "name": "stdout",
     "output_type": "stream",
     "text": [
      "{'NNN': 292.0}\n",
      "292.0 NNN\n"
     ]
    }
   ],
   "source": [
    "encoding_map = {'A': 0, 'G': 1, 'C': 2, 'T': 3, 'N': 4}\n",
    "decoding_lst = ['A', 'G', 'C', 'T', 'N']\n",
    "\n",
    "\n",
    "def encode(k):\n",
    "    code = 0.0\n",
    "    for ch in k:\n",
    "        code *= 8.0\n",
    "        code += encoding_map[ch]\n",
    "    return code\n",
    "\n",
    "\n",
    "def decode(enc, l):\n",
    "    code = int(enc)\n",
    "    ret = ''\n",
    "    for _ in range(l):\n",
    "        index = code & 7\n",
    "        code >>= 3\n",
    "        ret = decoding_lst[index] + ret\n",
    "    return ret\n",
    "\n",
    "\n",
    "kmers = ['ACGTNACGTNACGTNACGTN'] * 10000000\n",
    "\n",
    "kmerdict = {k: encode(k) for k in kmers}\n",
    "\n",
    "# print(kmerdict)\n",
    "\n",
    "# for key, enc in kmerdict.items():\n",
    "#     print(enc, decodelol(enc, len(key)))"
   ]
  },
  {
   "cell_type": "code",
   "execution_count": 162,
   "metadata": {},
   "outputs": [
    {
     "data": {
      "text/plain": [
       "'TATATATATATATATATAAA'"
      ]
     },
     "execution_count": 162,
     "metadata": {},
     "output_type": "execute_result"
    }
   ],
   "source": [
    "decodelol(439208192231179776, 20)"
   ]
  },
  {
   "cell_type": "code",
   "execution_count": 7,
   "metadata": {},
   "outputs": [
    {
     "data": {
      "text/plain": [
       "48"
      ]
     },
     "execution_count": 7,
     "metadata": {},
     "output_type": "execute_result"
    }
   ],
   "source": [
    "import sys\n",
    "\n",
    "m = 'ACACACACACACACACACACA'\n",
    "\n",
    "mBytes = m.encode(\"utf-8\")\n",
    "\n",
    "sys.getsizeof(int.from_bytes(mBytes, byteorder=\"big\"))"
   ]
  },
  {
   "cell_type": "code",
   "execution_count": 59,
   "metadata": {},
   "outputs": [
    {
     "data": {
      "text/plain": [
       "2"
      ]
     },
     "execution_count": 59,
     "metadata": {},
     "output_type": "execute_result"
    }
   ],
   "source": [
    "ret = ''\n",
    "code = 2\n",
    "index = code & 3\n",
    "code >>= 2 \n",
    "ret = decoding_lst[index] + ret\n",
    "\n",
    "index\n"
   ]
  }
 ],
 "metadata": {
  "kernelspec": {
   "display_name": "allegro",
   "language": "python",
   "name": "python3"
  },
  "language_info": {
   "codemirror_mode": {
    "name": "ipython",
    "version": 3
   },
   "file_extension": ".py",
   "mimetype": "text/x-python",
   "name": "python",
   "nbconvert_exporter": "python",
   "pygments_lexer": "ipython3",
   "version": "3.10.4"
  },
  "orig_nbformat": 4,
  "vscode": {
   "interpreter": {
    "hash": "66305d5341bcc90f0e236382a922a6a93724369df31dd2302786be3a10a6587f"
   }
  }
 },
 "nbformat": 4,
 "nbformat_minor": 2
}
