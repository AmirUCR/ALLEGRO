{
 "cells": [
  {
   "cell_type": "code",
   "execution_count": 1,
   "metadata": {},
   "outputs": [],
   "source": [
    "# ^_^ coding:utf-8 ^_^\n",
    "\n",
    "\"\"\"\n",
    "Find a Median String\n",
    "url: http://rosalind.info/problems/ba2b/\n",
    "\n",
    "Given: An integer k and a collection of strings Dna.\n",
    "Return: A k-mer Pattern that minimizes d(Pattern, Dna) over all k-mers Pattern. (If multiple answers exist, you may return any one.)\n",
    "\"\"\"\n",
    "\n",
    "def MinHammingDistance(pattern, string):\n",
    "    min_distance = len(pattern)\n",
    "    for i in range(len(string) - len(pattern) + 1):\n",
    "        distance = sum([1 for j in range(len(pattern)) if pattern[j] != string[i:i+len(pattern)][j]])\n",
    "        if distance < min_distance:\n",
    "            min_distance = distance\n",
    "    return min_distance\n",
    "\n",
    "def GenerateArray(k):\n",
    "    bases = ['A', 'C', 'G', 'T']\n",
    "    array = bases\n",
    "    for n in range(k-1):\n",
    "        array = [i+j for i in array for j in bases]\n",
    "    return array\n",
    "\n",
    "def FindMedianString(k, dna):\n",
    "    pattern = GenerateArray(k)\n",
    "    distance_of_pattern_dna = {}\n",
    "    min_string = len(dna) * len(pattern)\n",
    "    for i in pattern:\n",
    "        sum_distance = 0\n",
    "        for j in range(len(dna)):\n",
    "            sum_distance += MinHammingDistance(i, dna[j])\n",
    "        distance_of_pattern_dna[i] = sum_distance\n",
    "        if sum_distance < min_string:\n",
    "            min_string = sum_distance\n",
    "    for t in distance_of_pattern_dna.keys():\n",
    "        if distance_of_pattern_dna[t] == min_string:\n",
    "            print(t)\n",
    "\n",
    "if __name__ == \"__main__\":\n",
    "    with open(\"rosalind_ba2b.txt\", \"r\") as f:\n",
    "        k = int(f.readline().strip())\n",
    "        dna = [line.strip() for line in f]\n",
    "    FindMedianString(k, dna)"
   ]
  }
 ],
 "metadata": {
  "kernelspec": {
   "display_name": "allegro",
   "language": "python",
   "name": "python3"
  },
  "language_info": {
   "codemirror_mode": {
    "name": "ipython",
    "version": 3
   },
   "file_extension": ".py",
   "mimetype": "text/x-python",
   "name": "python",
   "nbconvert_exporter": "python",
   "pygments_lexer": "ipython3",
   "version": "3.10.4"
  },
  "orig_nbformat": 4
 },
 "nbformat": 4,
 "nbformat_minor": 2
}
