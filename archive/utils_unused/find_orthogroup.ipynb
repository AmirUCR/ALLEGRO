{
 "cells": [
  {
   "cell_type": "code",
   "execution_count": 1,
   "metadata": {},
   "outputs": [],
   "source": [
    "import os\n",
    "import re\n",
    "import pandas as pd\n",
    "from Bio import SeqIO\n",
    "from Bio.Seq import Seq\n",
    "from Bio.SeqRecord import SeqRecord"
   ]
  },
  {
   "cell_type": "code",
   "execution_count": 2,
   "metadata": {},
   "outputs": [],
   "source": [
    "def hash_gene_to_prot_id(cds_path: str, gene_re=r'\\[gene=(.*?)\\]', prot_id_re=r'\\[protein_id=(.*?)\\]') -> dict:\n",
    "    hash = dict()\n",
    "    cds = list(SeqIO.parse(open(cds_path), 'fasta'))\n",
    "\n",
    "    for record in cds:\n",
    "        gene_match = re.search(gene_re, record.description)\n",
    "\n",
    "        if gene_match:\n",
    "            prot_id = re.search(prot_id_re, record.description)\n",
    "            \n",
    "            if prot_id:\n",
    "                hash[gene_match.group(1)] = prot_id.group(1)\n",
    "            else:\n",
    "                hash[gene_match.group(1)] = ''\n",
    "    \n",
    "    return hash"
   ]
  },
  {
   "cell_type": "code",
   "execution_count": 3,
   "metadata": {},
   "outputs": [],
   "source": [
    "def hash_locus_tag_to_prot_id(cds_path: str, tag_re='\\[locus_tag=(.*?)\\]', prot_id_re='\\[protein_id=(.*?)\\]') -> dict:\n",
    "    hash = dict()\n",
    "    cds = list(SeqIO.parse(open(cds_path), 'fasta'))\n",
    "\n",
    "    for record in cds:\n",
    "        tag_match = re.search(tag_re, record.description)\n",
    "\n",
    "        if tag_match:\n",
    "            prot_id = re.search(prot_id_re, record.description)\n",
    "            \n",
    "            if prot_id:\n",
    "                hash[tag_match.group(1)] = prot_id.group(1)\n",
    "            else:\n",
    "                hash[tag_match.group(1)] = ''\n",
    "    \n",
    "    return hash"
   ]
  },
  {
   "cell_type": "code",
   "execution_count": 25,
   "metadata": {},
   "outputs": [],
   "source": [
    "def get_gene_name_from_locus_tag(cds_path: str, tag: str, gene_re=r'\\[gene=(.*?)\\]') -> str:\n",
    "    tag_re='\\[locus_tag=(' + tag + ')\\]'\n",
    "\n",
    "    cds = list(SeqIO.parse(open(cds_path), 'fasta'))\n",
    "\n",
    "    for record in cds:\n",
    "        locus_tag = re.search(tag_re, record.description)\n",
    "\n",
    "        if locus_tag:\n",
    "            gene_id = re.search(gene_re, record.description)\n",
    "            \n",
    "            if gene_id:\n",
    "                return gene_id.group(1)\n",
    "            else:\n",
    "                print('Tag', tag, 'found in', record.name, 'but no gene name matching', gene_re, 'was found.')\n",
    "                return ''\n",
    "    \n",
    "    print('Could not find gene name from locus tag', tag)\n",
    "    return ''"
   ]
  },
  {
   "cell_type": "code",
   "execution_count": 6,
   "metadata": {},
   "outputs": [],
   "source": [
    "def get_prot_id_from_gene_name(cds_path: str, gene_name: str, prot_id_re=r'\\[protein_id=(.*?)\\]') -> str:\n",
    "    gene_re = '\\[gene=(' + gene_name + ')\\]'\n",
    "\n",
    "    cds = list(SeqIO.parse(open(cds_path), 'fasta'))\n",
    "\n",
    "    for record in cds:\n",
    "        gene_match = re.search(gene_re, record.description)\n",
    "\n",
    "        if gene_match:\n",
    "            prot_id = re.search(prot_id_re, record.description)\n",
    "            \n",
    "            if prot_id:\n",
    "                return prot_id.group(1)\n",
    "            else:\n",
    "                print('Gene', gene_name, 'found in', record.name, 'but no protein id matching', prot_id_re, 'was found.')\n",
    "                return ''\n",
    "\n",
    "    print('Could not find protein id from gene name', gene_name)\n",
    "    return ''"
   ]
  },
  {
   "cell_type": "code",
   "execution_count": 24,
   "metadata": {},
   "outputs": [],
   "source": [
    "def get_prot_id_from_locus_tag(cds_path: str, tag: str, prot_id_re='\\[protein_id=(.*?)\\]') -> str:\n",
    "    tag_re = '\\[gene=(' + tag + ')\\]'\n",
    "\n",
    "    cds = list(SeqIO.parse(open(cds_path), 'fasta'))\n",
    "\n",
    "    for record in cds:\n",
    "        locus_tag = re.search(tag, record.description)\n",
    "\n",
    "        if locus_tag:\n",
    "            prot_id = re.search(prot_id_re, record.description)\n",
    "            \n",
    "            if prot_id:\n",
    "                return prot_id.group(1)\n",
    "            else:\n",
    "                print('Tag', tag, 'found in', record.name, 'but no protein id matching', prot_id_re, 'was found.')\n",
    "                return ''\n",
    "\n",
    "    print('Locus tag', tag, 'not found.')\n",
    "    return ''"
   ]
  },
  {
   "cell_type": "code",
   "execution_count": 4,
   "metadata": {},
   "outputs": [],
   "source": [
    "species = 'kmarxianus'\n",
    "cds_directory = '../../data/input/cds/'\n",
    "output_directory = os.path.join(cds_directory, 'orthogroups', '')\n",
    "ortho_path = '../../data/input/orthogroups/Orthogroups.tsv'\n",
    "\n",
    "df = pd.read_csv(ortho_path, sep='\\t')\n",
    "shared = df.dropna()\n",
    "species_names = shared.columns[1:]\n",
    "n_species = len(species_names)\n",
    "\n",
    "file_paths = [cds_directory + name for name in os.listdir(cds_directory) if name.split('_')[0] in species_names]\n",
    "\n",
    "path_dict = dict()\n",
    "for name in species_names:\n",
    "    for path in file_paths:\n",
    "        if name in path:\n",
    "            path_dict[name] = path"
   ]
  },
  {
   "cell_type": "code",
   "execution_count": 5,
   "metadata": {},
   "outputs": [
    {
     "data": {
      "text/plain": [
       "{'hpolymorpha': '../../data/input/cds/hpolymorpha_cds.fna',\n",
       " 'iorientalis': '../../data/input/cds/iorientalis_cds.fna',\n",
       " 'klactis': '../../data/input/cds/klactis_cds.fna',\n",
       " 'kmarxianus': '../../data/input/cds/kmarxianus_cds.fna',\n",
       " 'kphaffii': '../../data/input/cds/kphaffii_cds.fna',\n",
       " 'rtoruloides': '../../data/input/cds/rtoruloides_cds.fna',\n",
       " 'scerevisiae': '../../data/input/cds/scerevisiae_cds.fna',\n",
       " 'ylipolytica': '../../data/input/cds/ylipolytica_cds.fna'}"
      ]
     },
     "execution_count": 5,
     "metadata": {},
     "output_type": "execute_result"
    }
   ],
   "source": [
    "path_dict"
   ]
  },
  {
   "cell_type": "code",
   "execution_count": 6,
   "metadata": {},
   "outputs": [],
   "source": [
    "auxotroph_names = [\n",
    "                'ILV1', 'ILV3',\n",
    "                'HIS2', 'HIS4', 'HIS7',\n",
    "                'ARG1', 'ARG3', 'ARG4',\n",
    "                'LYS1', 'LYS2', 'LYS4', 'LYS9',\n",
    "                'ADE1', 'ADE2', 'ADE6', 'ADE8',\n",
    "                'TRP5', 'LEU1', 'THR4', 'ADE13', 'MET2',\n",
    "]\n",
    "\n",
    "auxotroph_tags = [\n",
    "    'KLMA_50610'\n",
    "]"
   ]
  },
  {
   "cell_type": "code",
   "execution_count": 7,
   "metadata": {},
   "outputs": [
    {
     "name": "stdout",
     "output_type": "stream",
     "text": [
      "Auxo gene ARG1 has no orthogroup across all 8 species.\n",
      "     Orthogroup     hpolymorpha     iorientalis      klactis      kmarxianus  \\\n",
      "3196  OG0003196  XP_018210803.1  XP_029321458.1  XP_452377.1  XP_022673716.1   \n",
      "\n",
      "            kphaffii     rtoruloides  scerevisiae ylipolytica  \n",
      "3196  XP_002492426.1  XP_016270319.1  NP_014583.2         NaN  \n",
      "21 out of 22 kmarxianus have orthogroups across all species.\n"
     ]
    },
    {
     "data": {
      "text/plain": [
       "{'ILV1': 'XP_022676761.1',\n",
       " 'ILV3': 'XP_022676106.1',\n",
       " 'HIS2': 'XP_022673956.1',\n",
       " 'HIS4': 'XP_022673604.1',\n",
       " 'HIS7': 'XP_022674739.1',\n",
       " 'ARG3': 'XP_022675310.1',\n",
       " 'ARG4': 'XP_022673953.1',\n",
       " 'LYS1': 'XP_022676213.1',\n",
       " 'LYS2': 'XP_022678348.1',\n",
       " 'LYS4': 'XP_022675655.1',\n",
       " 'LYS9': 'XP_022675869.1',\n",
       " 'ADE1': 'XP_022673725.1',\n",
       " 'ADE2': 'XP_022674914.1',\n",
       " 'ADE6': 'XP_022676747.1',\n",
       " 'ADE8': 'XP_022675776.1',\n",
       " 'TRP5': 'XP_022674386.1',\n",
       " 'LEU1': 'XP_022676623.1',\n",
       " 'THR4': 'XP_022675622.1',\n",
       " 'ADE13': 'XP_022675223.1',\n",
       " 'MET2': 'XP_022673628.1',\n",
       " 'KLMA_50610': 'XP_022677059.1'}"
      ]
     },
     "execution_count": 7,
     "metadata": {},
     "output_type": "execute_result"
    }
   ],
   "source": [
    "name_to_prot_id = dict()\n",
    "prot_id_to_name = dict()\n",
    "\n",
    "gene_to_prot_id_hash = hash_gene_to_prot_id(path_dict[species])\n",
    "for auxo in auxotroph_names:\n",
    "    if auxo in gene_to_prot_id_hash:\n",
    "        id = gene_to_prot_id_hash[auxo]\n",
    "\n",
    "        if len(shared[shared[species] == id]) > 0:\n",
    "            name_to_prot_id[auxo] = id\n",
    "            prot_id_to_name[id] = auxo\n",
    "        else:\n",
    "            print('Auxo gene', auxo, 'has no orthogroup across all', n_species, 'species.')\n",
    "            print(df[df[species] == id])\n",
    "\n",
    "    else:\n",
    "        print('Auxo gene name', auxo, 'not found in', path_dict[species])\n",
    "\n",
    "\n",
    "tag_to_prot_id_hash = hash_locus_tag_to_prot_id(path_dict[species])\n",
    "for auxo in auxotroph_tags:\n",
    "    if auxo in tag_to_prot_id_hash:\n",
    "        id = tag_to_prot_id_hash[auxo]\n",
    "\n",
    "        if len(shared[shared[species] == id]) > 0:\n",
    "            name_to_prot_id[auxo] = id\n",
    "            prot_id_to_name[id] = auxo\n",
    "        else:\n",
    "            print('Auxo tag', auxo, 'has no orthogroup across all', n_species, '.')\n",
    "            print(df[df[species] == id])\n",
    "    else:\n",
    "        print('Auxo tag', auxo, 'not found in', path_dict[species])\n",
    "\n",
    "\n",
    "print(len(name_to_prot_id), 'out of', len(auxotroph_names) + len(auxotroph_tags), species, 'have orthogroups across all species.')\n",
    "\n",
    "name_to_prot_id"
   ]
  },
  {
   "cell_type": "code",
   "execution_count": 8,
   "metadata": {},
   "outputs": [
    {
     "data": {
      "text/html": [
       "<div>\n",
       "<style scoped>\n",
       "    .dataframe tbody tr th:only-of-type {\n",
       "        vertical-align: middle;\n",
       "    }\n",
       "\n",
       "    .dataframe tbody tr th {\n",
       "        vertical-align: top;\n",
       "    }\n",
       "\n",
       "    .dataframe thead th {\n",
       "        text-align: right;\n",
       "    }\n",
       "</style>\n",
       "<table border=\"1\" class=\"dataframe\">\n",
       "  <thead>\n",
       "    <tr style=\"text-align: right;\">\n",
       "      <th></th>\n",
       "      <th>Orthogroup</th>\n",
       "      <th>hpolymorpha</th>\n",
       "      <th>iorientalis</th>\n",
       "      <th>klactis</th>\n",
       "      <th>kmarxianus</th>\n",
       "      <th>kphaffii</th>\n",
       "      <th>rtoruloides</th>\n",
       "      <th>scerevisiae</th>\n",
       "      <th>ylipolytica</th>\n",
       "    </tr>\n",
       "  </thead>\n",
       "  <tbody>\n",
       "    <tr>\n",
       "      <th>1284</th>\n",
       "      <td>OG0001284</td>\n",
       "      <td>XP_018213552.1</td>\n",
       "      <td>XP_029320833.1</td>\n",
       "      <td>XP_451218.1</td>\n",
       "      <td>XP_022676623.1</td>\n",
       "      <td>XP_002491269.1</td>\n",
       "      <td>XP_016275100.1</td>\n",
       "      <td>NP_011506.1</td>\n",
       "      <td>AOW01073.1</td>\n",
       "    </tr>\n",
       "  </tbody>\n",
       "</table>\n",
       "</div>"
      ],
      "text/plain": [
       "     Orthogroup     hpolymorpha     iorientalis      klactis      kmarxianus  \\\n",
       "1284  OG0001284  XP_018213552.1  XP_029320833.1  XP_451218.1  XP_022676623.1   \n",
       "\n",
       "            kphaffii     rtoruloides  scerevisiae ylipolytica  \n",
       "1284  XP_002491269.1  XP_016275100.1  NP_011506.1  AOW01073.1  "
      ]
     },
     "execution_count": 8,
     "metadata": {},
     "output_type": "execute_result"
    }
   ],
   "source": [
    "shared[shared[species] == 'XP_022676623.1']"
   ]
  },
  {
   "cell_type": "code",
   "execution_count": 9,
   "metadata": {},
   "outputs": [
    {
     "data": {
      "text/plain": [
       "{'hpolymorpha': ['XP_018213552.1'],\n",
       " 'iorientalis': ['XP_029320833.1'],\n",
       " 'klactis': ['XP_451218.1'],\n",
       " 'kmarxianus': ['XP_022676623.1'],\n",
       " 'kphaffii': ['XP_002491269.1'],\n",
       " 'rtoruloides': ['XP_016275100.1'],\n",
       " 'scerevisiae': ['NP_011506.1'],\n",
       " 'ylipolytica': ['AOW01073.1']}"
      ]
     },
     "execution_count": 9,
     "metadata": {},
     "output_type": "execute_result"
    }
   ],
   "source": [
    "species_name_to_prot_id = shared[shared[species] == 'XP_022676623.1'].iloc[:, 1:].to_dict(orient='list')\n",
    "\n",
    "species_name_to_prot_id"
   ]
  },
  {
   "cell_type": "code",
   "execution_count": 10,
   "metadata": {},
   "outputs": [
    {
     "data": {
      "text/plain": [
       "{'OG0000749': 'XP_022676761.1',\n",
       " 'OG0000711': 'XP_022676106.1',\n",
       " 'OG0002298': 'XP_022673956.1',\n",
       " 'OG0001311': 'XP_022673604.1',\n",
       " 'OG0002783': 'XP_022674739.1',\n",
       " 'OG0002020': 'XP_022675310.1',\n",
       " 'OG0002525': 'XP_022673953.1',\n",
       " 'OG0001014': 'XP_022676213.1',\n",
       " 'OG0000627': 'XP_022678348.1',\n",
       " 'OG0002625': 'XP_022675655.1',\n",
       " 'OG0000909': 'XP_022675869.1',\n",
       " 'OG0001168': 'XP_022673725.1',\n",
       " 'OG0001150': 'XP_022674914.1',\n",
       " 'OG0001300': 'XP_022676747.1',\n",
       " 'OG0001931': 'XP_022675776.1',\n",
       " 'OG0000513': 'XP_022674386.1',\n",
       " 'OG0001284': 'XP_022676623.1',\n",
       " 'OG0001065': 'XP_022675622.1',\n",
       " 'OG0001151': 'XP_022675223.1',\n",
       " 'OG0001180': 'XP_022673628.1',\n",
       " 'OG0001633': 'XP_022677059.1'}"
      ]
     },
     "execution_count": 10,
     "metadata": {},
     "output_type": "execute_result"
    }
   ],
   "source": [
    "prot_id_to_orthogroup = dict()\n",
    "orthogroup_to_prot_id = dict()\n",
    "\n",
    "for id in name_to_prot_id.values():\n",
    "    group = shared[shared[species] == id]['Orthogroup'].values[0]\n",
    "    prot_id_to_orthogroup[id] = group\n",
    "    orthogroup_to_prot_id[group] = id\n",
    "\n",
    "orthogroup_to_prot_id"
   ]
  },
  {
   "cell_type": "code",
   "execution_count": null,
   "metadata": {},
   "outputs": [],
   "source": [
    "# OG0001300 4 \n",
    "# OG0000627 5"
   ]
  },
  {
   "cell_type": "code",
   "execution_count": 11,
   "metadata": {},
   "outputs": [
    {
     "data": {
      "text/plain": [
       "'ADE6'"
      ]
     },
     "execution_count": 11,
     "metadata": {},
     "output_type": "execute_result"
    }
   ],
   "source": [
    "prot_id_to_name[orthogroup_to_prot_id['OG0001300']]"
   ]
  },
  {
   "cell_type": "code",
   "execution_count": 12,
   "metadata": {},
   "outputs": [
    {
     "data": {
      "text/plain": [
       "'XP_022676747.1'"
      ]
     },
     "execution_count": 12,
     "metadata": {},
     "output_type": "execute_result"
    }
   ],
   "source": [
    "orthogroup_to_prot_id['OG0001300']"
   ]
  }
 ],
 "metadata": {
  "kernelspec": {
   "display_name": "Python 3.10.4 ('ml_plot': conda)",
   "language": "python",
   "name": "python3"
  },
  "language_info": {
   "codemirror_mode": {
    "name": "ipython",
    "version": 3
   },
   "file_extension": ".py",
   "mimetype": "text/x-python",
   "name": "python",
   "nbconvert_exporter": "python",
   "pygments_lexer": "ipython3",
   "version": "3.10.4"
  },
  "orig_nbformat": 4,
  "vscode": {
   "interpreter": {
    "hash": "301f2087c8f1f4c6305804c9de2ced676885aadae93badf3aec95d89a005c1c2"
   }
  }
 },
 "nbformat": 4,
 "nbformat_minor": 2
}
